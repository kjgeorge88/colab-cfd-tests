{
  "nbformat": 4,
  "nbformat_minor": 0,
  "metadata": {
    "colab": {
      "name": "numba_tests.ipynb",
      "provenance": [],
      "private_outputs": true,
      "collapsed_sections": [],
      "authorship_tag": "ABX9TyOuwfqOdkr/YTztfLrqa1+3",
      "include_colab_link": true
    },
    "kernelspec": {
      "name": "python3",
      "display_name": "Python 3"
    },
    "accelerator": "GPU"
  },
  "cells": [
    {
      "cell_type": "markdown",
      "metadata": {
        "id": "view-in-github",
        "colab_type": "text"
      },
      "source": [
        "<a href=\"https://colab.research.google.com/github/kjgeorge88/colab-cfd-tests/blob/master/numba_tests.ipynb\" target=\"_parent\"><img src=\"https://colab.research.google.com/assets/colab-badge.svg\" alt=\"Open In Colab\"/></a>"
      ]
    },
    {
      "cell_type": "code",
      "metadata": {
        "id": "jbUuTKyiBt-K",
        "colab_type": "code",
        "colab": {}
      },
      "source": [
        "import numpy as np\n",
        "import numba\n",
        "\n",
        "@numba.stencil\n",
        "def _smooth(x):\n",
        "    return (x[-1, -1] + x[-1, 0] + x[-1, 1] +\n",
        "            x[ 0, -1] + x[ 0, 0] + x[ 0, 1] +\n",
        "            x[ 1, -1] + x[ 1, 0] + x[ 1, 1]) // 9\n",
        "\n",
        "@numba.njit\n",
        "def smooth_cpu(x):\n",
        "    return _smooth(x)"
      ],
      "execution_count": 0,
      "outputs": []
    },
    {
      "cell_type": "code",
      "metadata": {
        "id": "pzV-86H0B0PS",
        "colab_type": "code",
        "colab": {}
      },
      "source": [
        "x_cpu = np.ones((10000, 10000), dtype='int8')\n",
        "\n",
        "%timeit smooth_cpu(x_cpu)"
      ],
      "execution_count": 0,
      "outputs": []
    },
    {
      "cell_type": "code",
      "metadata": {
        "id": "KNldWGTGCnRy",
        "colab_type": "code",
        "colab": {}
      },
      "source": [
        "from numba import cuda\n",
        "\n",
        "@cuda.jit\n",
        "def smooth_gpu(x, out):\n",
        "    i, j = cuda.grid(2)\n",
        "    n, m = x.shape\n",
        "    if 1 <= i < n - 1 and 1 <= j < m - 1:\n",
        "        out[i, j] = (x[i - 1, j - 1] + x[i - 1, j] + x[i - 1, j + 1] +\n",
        "                     x[i    , j - 1] + x[i    , j] + x[i    , j + 1] +\n",
        "                     x[i + 1, j - 1] + x[i + 1, j] + x[i + 1, j + 1]) // 9"
      ],
      "execution_count": 0,
      "outputs": []
    },
    {
      "cell_type": "code",
      "metadata": {
        "id": "7X81BD7XCsnF",
        "colab_type": "code",
        "colab": {}
      },
      "source": [
        "import cupy, math\n",
        "\n",
        "x_gpu = cupy.ones((10000, 10000), dtype='int8')\n",
        "out_gpu = cupy.zeros((10000, 10000), dtype='int8')\n",
        "\n",
        "# I copied the four lines below from the Numba docs\n",
        "threadsperblock = (16, 16)\n",
        "blockspergrid_x = math.ceil(x_gpu.shape[0] / threadsperblock[0])\n",
        "blockspergrid_y = math.ceil(x_gpu.shape[1] / threadsperblock[1])\n",
        "blockspergrid = (blockspergrid_x, blockspergrid_y)\n",
        "\n",
        "%timeit smooth_gpu[blockspergrid, threadsperblock](x_gpu, out_gpu)"
      ],
      "execution_count": 0,
      "outputs": []
    }
  ]
}