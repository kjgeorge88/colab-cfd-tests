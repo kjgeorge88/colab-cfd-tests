{
  "nbformat": 4,
  "nbformat_minor": 0,
  "metadata": {
    "colab": {
      "name": "diffusion_equation.ipynb",
      "provenance": [],
      "private_outputs": true,
      "collapsed_sections": [],
      "authorship_tag": "ABX9TyNXiew7IFtzpQ24os1VDrmu",
      "include_colab_link": true
    },
    "kernelspec": {
      "name": "python3",
      "display_name": "Python 3"
    }
  },
  "cells": [
    {
      "cell_type": "markdown",
      "metadata": {
        "id": "view-in-github",
        "colab_type": "text"
      },
      "source": [
        "<a href=\"https://colab.research.google.com/github/kjgeorge88/colab-cfd-tests/blob/master/diffusion_equation.ipynb\" target=\"_parent\"><img src=\"https://colab.research.google.com/assets/colab-badge.svg\" alt=\"Open In Colab\"/></a>"
      ]
    },
    {
      "cell_type": "code",
      "metadata": {
        "id": "YOuvStdpqfG0",
        "colab_type": "code",
        "colab": {}
      },
      "source": [
        "from __future__ import division\n",
        "from __future__ import print_function\n",
        "\n",
        "import matplotlib.pyplot as plt\n",
        "import numpy as np\n",
        "import time\n",
        "\n",
        "# simulation parameters\n",
        "scale  = 2                 # set simulation size\n",
        "NX     = 32*scale          # domain size \n",
        "NY     = NX                # domain size\n",
        "dx     = 1                 # Grid spacing\n",
        "dt     = 0.25              # Time step  \n",
        "NSTEPS = 2000*scale*scale  # number of simulation time steps\n",
        "NMSG   = 500*scale*scale   # show messages every NMSG time steps\n",
        "vis    = True              # show visualisation; set to False for performance measurements\n",
        "NVIS   = NMSG              # show visualisation every NVIS time steps\n",
        "u_max  = 0.04/scale        # maximum velocity\n",
        "nu     = 1                 # kinematic shear viscosity"
      ],
      "execution_count": 0,
      "outputs": []
    },
    {
      "cell_type": "code",
      "metadata": {
        "id": "1gYwd9bYqvSV",
        "colab_type": "code",
        "colab": {}
      },
      "source": [
        "# Mesh parameters\n",
        "x = np.arange(NX)+0.5\n",
        "y = np.arange(NY)+0.5\n",
        "[X, Y] = np.meshgrid(x,y)"
      ],
      "execution_count": 0,
      "outputs": []
    },
    {
      "cell_type": "code",
      "metadata": {
        "id": "L4whSMxBq5nd",
        "colab_type": "code",
        "colab": {}
      },
      "source": [
        "# Taylor Green Vortex \n",
        "def taylorgreen(t, nu, u_max):\n",
        "    kx = 2*np.pi/NX\n",
        "    ky = 2*np.pi/NY\n",
        "    td = 1/(nu*(kx*kx+ky*ky))\n",
        "    u = -u_max*np.sqrt(ky/kx)*np.cos(kx*X)*np.sin(ky*Y)*np.exp(-t/td)   \n",
        "    return u"
      ],
      "execution_count": 0,
      "outputs": []
    },
    {
      "cell_type": "code",
      "metadata": {
        "id": "FyBc5x9orC4P",
        "colab_type": "code",
        "colab": {}
      },
      "source": [
        "# Initial Conditions\n",
        "u = taylorgreen(0, nu, u_max)\n",
        "\n",
        "print('Solving Diffusion Equation')\n",
        "print('      domain size:', str(NX) + 'x' + str(NY))\n",
        "print('               nu:', nu)\n",
        "print('              tau:', tau)\n",
        "print('            u_max:', u_max)\n",
        "print('             rho0:', rho0)\n",
        "print('        timesteps:', NSTEPS)\n",
        "print('       plot every:', NVIS)\n",
        "print('    message every:', NMSG)\n",
        "print('')\n",
        "\n",
        "tstart = time.time()"
      ],
      "execution_count": 0,
      "outputs": []
    },
    {
      "cell_type": "code",
      "metadata": {
        "id": "ICvzLnZvA_fq",
        "colab_type": "code",
        "colab": {}
      },
      "source": [
        "import numba\n",
        "\n",
        "@numba.stencil\n",
        "def _diffusion(x,nu,dt,dx):\n",
        "    dtbydx2 = dt/(dx*dx)\n",
        "    return (1-4.0*dtbydx2*nu)*x[0,0] + dtbydx2*nu*(            x[0, 1] +\n",
        "                                                    x[-1, 0] +            x[1, 0] +\n",
        "                                                               x[0,-1]             ) \n",
        "\n",
        "@numba.njit\n",
        "def diffusion_cpu(x,nu,dt,dx):\n",
        "    return _diffusion(x,nu,dt,dx)"
      ],
      "execution_count": 0,
      "outputs": []
    },
    {
      "cell_type": "code",
      "metadata": {
        "id": "KIdpySvpIogq",
        "colab_type": "code",
        "colab": {}
      },
      "source": [
        "#x_cpu = np.ones((64, 64), dtype='int8')\n",
        "\n",
        "#%timeit diffusion_cpu(x_cpu,nu,dt,dx)"
      ],
      "execution_count": 0,
      "outputs": []
    },
    {
      "cell_type": "code",
      "metadata": {
        "id": "lWK7aX9krtyG",
        "colab_type": "code",
        "colab": {}
      },
      "source": [
        "# Main loop\n",
        "for i in range(1, NSTEPS+1):\n",
        "    \n",
        "    # Advance in time\n",
        "    t = i*dt\n",
        "    #u = taylorgreen(t, nu, u_max)\n",
        "    u = diffusion_cpu(u,nu,dt,dx)\n",
        "     \n",
        "    # Compare against the analytical solution every NMSG time steps\n",
        "    if i % NMSG == 0:\n",
        "        \n",
        "        # Calculate analytical solution\n",
        "        ua = taylorgreen(t, nu, u_max)\n",
        "\n",
        "        sumue2 = np.einsum('xy->', (u-ua)*(u-ua))        \n",
        "        L2e    = np.sqrt(sumue2)\n",
        "        \n",
        "        print(t, L2e)\n",
        "\n",
        "# Calculate performance information after the simulation is finished\n",
        "runtime = time.time() - tstart\n",
        "nodes_updated = NSTEPS*NX*NY\n",
        "speed = nodes_updated/(1e6*runtime)\n",
        "\n",
        "print(' ----- performance information -----')\n",
        "print('        timesteps:', NSTEPS);\n",
        "print('          runtime:', runtime, '(s)')\n",
        "print('            speed:', speed, '(Mlups)')"
      ],
      "execution_count": 0,
      "outputs": []
    },
    {
      "cell_type": "code",
      "metadata": {
        "id": "jfMR6etGSAqt",
        "colab_type": "code",
        "colab": {}
      },
      "source": [
        "if vis:\n",
        "    umag = np.sqrt( np.einsum('xy->xy', u*u) ) / u_max\n",
        "    plt.imshow(umag, extent=[0,1,0,1], vmin=0, vmax=1)\n",
        "    bar = plt.colorbar()\n",
        "    plt.xlabel('$x/l_x$')\n",
        "    plt.ylabel('$y/l_y$')\n",
        "    bar.set_label('$|\\mathbf{u}|/u_\\mathrm{max}$')\n",
        "    td = 1/(nu*(2*np.pi/NX)**2 + (2*np.pi/NY)**2)\n",
        "    plt.title('Field at $t/t_d = {0:.2f}$'.format(t/td))\n",
        "    plt.show()"
      ],
      "execution_count": 0,
      "outputs": []
    }
  ]
}