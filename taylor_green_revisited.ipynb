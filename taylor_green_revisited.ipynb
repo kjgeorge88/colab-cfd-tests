{
  "nbformat": 4,
  "nbformat_minor": 0,
  "metadata": {
    "colab": {
      "name": "taylor_green_revisited.ipynb",
      "provenance": [],
      "private_outputs": true,
      "collapsed_sections": [],
      "authorship_tag": "ABX9TyMbxOTMV8K7+7d3BB6QIIdM",
      "include_colab_link": true
    },
    "kernelspec": {
      "name": "python3",
      "display_name": "Python 3"
    }
  },
  "cells": [
    {
      "cell_type": "markdown",
      "metadata": {
        "id": "view-in-github",
        "colab_type": "text"
      },
      "source": [
        "<a href=\"https://colab.research.google.com/github/kjgeorge88/colab-cfd-tests/blob/master/taylor_green_revisited.ipynb\" target=\"_parent\"><img src=\"https://colab.research.google.com/assets/colab-badge.svg\" alt=\"Open In Colab\"/></a>"
      ]
    },
    {
      "cell_type": "code",
      "metadata": {
        "id": "YOuvStdpqfG0",
        "colab_type": "code",
        "colab": {}
      },
      "source": [
        "from __future__ import division\n",
        "from __future__ import print_function\n",
        "\n",
        "import matplotlib.pyplot as plt\n",
        "import numpy as np\n",
        "import time\n",
        "\n",
        "# simulation parameters\n",
        "scale  = 2               # set simulation size\n",
        "NX     = 32*scale        # domain size\n",
        "NY     = NX\n",
        "NSTEPS = 200*scale*scale # number of simulation time steps\n",
        "NMSG   = 50*scale*scale  # show messages every NMSG time steps\n",
        "vis    = False           # show visualisation; set to False for performance measurements\n",
        "NVIS   = NMSG            # show visualisation every NVIS time steps\n",
        "tau    = 1               # relaxation time\n",
        "u_max  = 0.04/scale      # maximum velocity\n",
        "nu     = (2*tau-1)/6     # kinematic shear viscosity\n",
        "rho0   = 1               # rest density\n",
        "Re     = NX*u_max/nu     # Reynolds number; not used in the simulation itself"
      ],
      "execution_count": 0,
      "outputs": []
    },
    {
      "cell_type": "code",
      "metadata": {
        "id": "1gYwd9bYqvSV",
        "colab_type": "code",
        "colab": {}
      },
      "source": [
        "# Mesh parameters\n",
        "x = np.arange(NX)+0.5\n",
        "y = np.arange(NY)+0.5\n",
        "[X, Y] = np.meshgrid(x,y)"
      ],
      "execution_count": 0,
      "outputs": []
    },
    {
      "cell_type": "code",
      "metadata": {
        "id": "L4whSMxBq5nd",
        "colab_type": "code",
        "colab": {}
      },
      "source": [
        "# Taylor Green Vortex \n",
        "def taylorgreen(t, nu, rho0, u_max):\n",
        "    kx = 2*np.pi/NX\n",
        "    ky = 2*np.pi/NY\n",
        "    td = 1/(nu*(kx*kx+ky*ky))\n",
        "    u = -u_max*np.sqrt(ky/kx)*np.cos(kx*X)*np.sin(ky*Y)*np.exp(-t/td)\n",
        "    v =  u_max*np.sqrt(kx/ky)*np.sin(kx*X)*np.cos(ky*Y)*np.exp(-t/td)\n",
        "    P = -0.25*rho0*u_max*u_max*((ky/kx)*np.cos(2*kx*X)+(kx/ky)*np.cos(2*ky*Y))*np.exp(-2*t/td)\n",
        "    rho = rho0+3*P\n",
        "    return [rho, u, v, P]"
      ],
      "execution_count": 0,
      "outputs": []
    },
    {
      "cell_type": "code",
      "metadata": {
        "id": "FyBc5x9orC4P",
        "colab_type": "code",
        "colab": {}
      },
      "source": [
        "# Initialise populations\n",
        "[rho, u, v, P] = taylorgreen(0, nu, rho0, u_max)\n",
        "\n",
        "print('Simulating Taylor-Green vortex decay')\n",
        "print('      domain size:', str(NX) + 'x' + str(NY))\n",
        "print('               nu:', nu)\n",
        "print('              tau:', tau)\n",
        "print('            u_max:', u_max)\n",
        "print('             rho0:', rho0)\n",
        "print('        timesteps:', NSTEPS)\n",
        "print('       plot every:', NVIS)\n",
        "print('    message every:', NMSG)\n",
        "print('')\n",
        "\n",
        "E = 0.5*(np.einsum('xy->', u*u) + np.einsum('xy->', v*v))\n",
        "print(0, E, 0, 0, 0)\n",
        "\n",
        "tstart = time.time()"
      ],
      "execution_count": 0,
      "outputs": []
    },
    {
      "cell_type": "code",
      "metadata": {
        "id": "ICvzLnZvA_fq",
        "colab_type": "code",
        "colab": {}
      },
      "source": [
        "import numba\n",
        "\n",
        "@numba.stencil\n",
        "def _diffusion(x,nu):\n",
        "    return x[0,0] + 0.25*nu*(            x[0,-1] +\n",
        "                             x[-1, 0] +            x[1, 0] +\n",
        "                                         x[0, 1]             ) \n",
        "\n",
        "@numba.njit\n",
        "def diffusion_cpu(x,nu):\n",
        "    return _diffusion(x,nu)"
      ],
      "execution_count": 0,
      "outputs": []
    },
    {
      "cell_type": "code",
      "metadata": {
        "id": "KIdpySvpIogq",
        "colab_type": "code",
        "colab": {}
      },
      "source": [
        "x_cpu = np.ones((64, 64), dtype='int8')\n",
        "\n",
        "%timeit diffusion_cpu(x_cpu,nu)"
      ],
      "execution_count": 0,
      "outputs": []
    },
    {
      "cell_type": "code",
      "metadata": {
        "id": "lWK7aX9krtyG",
        "colab_type": "code",
        "colab": {}
      },
      "source": [
        "# Main loop\n",
        "for t in range(1, NSTEPS+1):\n",
        "\n",
        "    # Advance in time\n",
        "    [rho, u, v, P] = taylorgreen(t, nu, rho0, u_max)\n",
        "\n",
        "    #diffusion_cpu(u,nu)\n",
        "    #diffusion_cpu(v,nu)\n",
        "    #diffusion_cpu(P,nu)\n",
        "    #rho = rho0 + 3*P \n",
        "     \n",
        "    # Compare against the analytical solution every NMSG time steps\n",
        "    if t % NMSG == 0:\n",
        "        \n",
        "        # Calculate analytical solution\n",
        "        [rhoa, ua, va, Pa] = taylorgreen(t, nu, rho0, u_max)\n",
        "\n",
        "        # Kinetic energy\n",
        "        E = 0.5*(np.einsum('xy->', u*u) + np.einsum('xy->', v*v))\n",
        "\n",
        "        # Sum square errors\n",
        "        sumrhoe2 = np.einsum('xy->', (rho-rhoa)*(rho-rhoa))\n",
        "        sumue2   = np.einsum('xy->', (u-ua)*(u-ua))\n",
        "        sumve2   = np.einsum('xy->', (v-va)*(v-va))\n",
        "\n",
        "        # Normalisation factors\n",
        "        sumrhoa2 = np.einsum('xy->', (rhoa-rho0)*(rhoa-rho0))\n",
        "        sumua2   = np.einsum('xy->', ua*ua)\n",
        "        sumva2   = np.einsum('xy->', va*va)\n",
        "\n",
        "        # L2 norms\n",
        "        L2rho = np.sqrt( sumrhoe2  / sumrhoa2 )\n",
        "        L2ux  = np.sqrt( sumue2    / sumua2 )\n",
        "        L2uy  = np.sqrt( sumve2    / sumva2 )\n",
        "\n",
        "        print(t, E, L2rho, L2ux, L2uy)\n",
        "\n",
        "    # Plot solution every NVIS time steps\n",
        "    if vis and t % NVIS == 0:\n",
        "          umag = np.sqrt( np.einsum('axy->xy', u*u) ) / u_max\n",
        "          plt.imshow(umag, extent=[0,1,0,1], vmin=0, vmax=1)\n",
        "          bar = plt.colorbar()\n",
        "          plt.streamplot(x/NX, y/NY, u[0,:,:], u[1,:,:], color=[1,1,1])\n",
        "          plt.xlabel('$x/l_x$')\n",
        "          plt.ylabel('$y/l_y$')\n",
        "          bar.set_label('$|\\mathbf{u}|/u_\\mathrm{max}$')\n",
        "          td = 1/(nu*(2*np.pi/NX)**2 + (2*np.pi/NY)**2)\n",
        "          plt.title('flow field at $t/t_d = {0:.2f}$'.format(t/td))\n",
        "          plt.show()\n",
        "\n",
        "# Calculate performance information after the simulation is finished\n",
        "runtime = time.time() - tstart\n",
        "nodes_updated = NSTEPS*NX*NY\n",
        "speed = nodes_updated/(1e6*runtime)\n",
        "\n",
        "print(' ----- performance information -----')\n",
        "print('        timesteps:', NSTEPS);\n",
        "print('          runtime:', runtime, '(s)')\n",
        "print('            speed:', speed, '(Mlups)')"
      ],
      "execution_count": 0,
      "outputs": []
    }
  ]
}