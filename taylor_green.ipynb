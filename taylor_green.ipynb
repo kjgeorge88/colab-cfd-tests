{
  "nbformat": 4,
  "nbformat_minor": 0,
  "metadata": {
    "colab": {
      "name": "taylor_green.ipynb",
      "provenance": [],
      "private_outputs": true,
      "collapsed_sections": [],
      "authorship_tag": "ABX9TyOygQfF6yEOJjnOcm5orhbF",
      "include_colab_link": true
    },
    "kernelspec": {
      "name": "python3",
      "display_name": "Python 3"
    }
  },
  "cells": [
    {
      "cell_type": "markdown",
      "metadata": {
        "id": "view-in-github",
        "colab_type": "text"
      },
      "source": [
        "<a href=\"https://colab.research.google.com/github/kjgeorge88/colab-cfd-tests/blob/master/taylor_green.ipynb\" target=\"_parent\"><img src=\"https://colab.research.google.com/assets/colab-badge.svg\" alt=\"Open In Colab\"/></a>"
      ]
    },
    {
      "cell_type": "code",
      "metadata": {
        "id": "_vbZ30hgBW7G",
        "colab_type": "code",
        "colab": {}
      },
      "source": [
        "from __future__ import division\n",
        "from __future__ import print_function\n",
        "\n",
        "import matplotlib.pyplot as plt\n",
        "import numpy as np\n",
        "import time\n",
        "\n",
        "# simulation parameters\n",
        "scale  = 2               # set simulation size\n",
        "NX     = 32*scale        # domain size\n",
        "NY     = NX\n",
        "NSTEPS = 200*scale*scale # number of simulation time steps\n",
        "NMSG   = 50*scale*scale  # show messages every NMSG time steps\n",
        "vis    = False           # show visualisation; set to False for performance measurements\n",
        "NVIS   = NMSG            # show visualisation every NVIS time steps\n",
        "tau    = 1               # relaxation time\n",
        "u_max  = 0.04/scale      # maximum velocity\n",
        "nu     = (2*tau-1)/6     # kinematic shear viscosity\n",
        "rho0   = 1               # rest density\n",
        "Re     = NX*u_max/nu     # Reynolds number; not used in the simulation itself"
      ],
      "execution_count": 0,
      "outputs": []
    },
    {
      "cell_type": "code",
      "metadata": {
        "id": "q5DBN5sVDNCM",
        "colab_type": "code",
        "colab": {}
      },
      "source": [
        "# Lattice parameters\n",
        "w = np.array([4/9, 1/9, 1/9, 1/9, 1/9, 1/36, 1/36, 1/36, 1/36]) # weights\n",
        "c = np.array([[0, 1, 0, -1,  0, 1, -1, -1,  1],  # velocities, x components\n",
        "              [0, 0, 1,  0, -1, 1,  1, -1, -1]]) # velocities, y components\n",
        "\n",
        "x = np.arange(NX)+0.5\n",
        "y = np.arange(NY)+0.5\n",
        "[X, Y] = np.meshgrid(x,y)"
      ],
      "execution_count": 0,
      "outputs": []
    },
    {
      "cell_type": "code",
      "metadata": {
        "id": "uYV0WImPDYDD",
        "colab_type": "code",
        "colab": {}
      },
      "source": [
        "# Function to calculate the equilibrium distribution\n",
        "def equilibrium(rho, u):\n",
        "    cdot3u = 3 * np.einsum('ai,axy->xyi', c, u)\n",
        "    usq = np.einsum('axy->xy', u*u)\n",
        "    feq = np.einsum('i,xy->xyi', w, rho) * (1 + cdot3u*(1 + 0.5*cdot3u) - 1.5*usq[:,:,np.newaxis])\n",
        "    return feq"
      ],
      "execution_count": 0,
      "outputs": []
    },
    {
      "cell_type": "code",
      "metadata": {
        "id": "L2TkomK0DgQg",
        "colab_type": "code",
        "colab": {}
      },
      "source": [
        "# Function to calculate the Taylor-Green vortex solution\n",
        "def taylorgreen(t, nu, rho0, u_max):\n",
        "    kx = 2*np.pi/NX\n",
        "    ky = 2*np.pi/NY\n",
        "    td = 1/(nu*(kx*kx+ky*ky))\n",
        "\n",
        "    u = np.array([-u_max*np.sqrt(ky/kx)*np.cos(kx*X)*np.sin(ky*Y)*np.exp(-t/td),\n",
        "                   u_max*np.sqrt(kx/ky)*np.sin(kx*X)*np.cos(ky*Y)*np.exp(-t/td)])\n",
        "    P = -0.25*rho0*u_max*u_max*((ky/kx)*np.cos(2*kx*X)+(kx/ky)*np.cos(2*ky*Y))*np.exp(-2*t/td)\n",
        "    rho = rho0+3*P\n",
        "    return [rho, u, P]"
      ],
      "execution_count": 0,
      "outputs": []
    },
    {
      "cell_type": "code",
      "metadata": {
        "id": "4ZxngNy7DlS8",
        "colab_type": "code",
        "colab": {}
      },
      "source": [
        "# Initialise populations\n",
        "[rho, u, P] = taylorgreen(0, nu, rho0, u_max)\n",
        "f = equilibrium(rho, u)\n",
        "\n",
        "print('Simulating Taylor-Green vortex decay')\n",
        "print('      domain size:', str(NX) + 'x' + str(NY))\n",
        "print('               nu:', nu)\n",
        "print('              tau:', tau)\n",
        "print('            u_max:', u_max)\n",
        "print('             rho0:', rho0)\n",
        "print('        timesteps:', NSTEPS)\n",
        "print('       plot every:', NVIS)\n",
        "print('    message every:', NMSG)\n",
        "print('')\n",
        "\n",
        "E = np.einsum('xy,axy->', rho, u*u)\n",
        "print(0, E, 0, 0, 0)\n",
        "\n",
        "tstart = time.time()"
      ],
      "execution_count": 0,
      "outputs": []
    },
    {
      "cell_type": "code",
      "metadata": {
        "id": "mb0Tdt6yDtTF",
        "colab_type": "code",
        "colab": {}
      },
      "source": [
        "# Main loop\n",
        "for t in range(1, NSTEPS+1):\n",
        "\n",
        "    # Periodic streaming using numpy's roll operation\n",
        "    for i in range(9):\n",
        "        f[:,:,i] = np.roll( np.roll(f[:,:,i], c[0,i], axis=1), c[1,i], axis=0 )\n",
        "\n",
        "    # Compute macroscopic quantities\n",
        "    rho = np.einsum('xyi->xy', f)\n",
        "    u   = np.einsum('ai,xyi->axy', c, f) / rho\n",
        "\n",
        "    # Collision step\n",
        "    f = (1-1/tau)*f + (1/tau)*equilibrium(rho, u)\n",
        "\n",
        "    # Compare against the analytical solution every NMSG time steps\n",
        "    if t % NMSG == 0:\n",
        "        # Calculate analytical solution\n",
        "        [rhoa, ua, Pa] = taylorgreen(t, nu, rho0, u_max)\n",
        "\n",
        "        # Kinetic energy\n",
        "        E = np.einsum('xy,axy->', rho, u*u)\n",
        "\n",
        "         # Sum square errors\n",
        "        sumrhoe2 = np.einsum('xy->', (rho-rhoa)*(rho-rhoa))\n",
        "        sumue2   = np.einsum('axy->a', (u-ua)*(u-ua))\n",
        "\n",
        "        # Normalisation factors\n",
        "        sumrhoa2 = np.einsum('xy->', (rhoa-rho0)*(rhoa-rho0))\n",
        "        sumua2   = np.einsum('axy->a', ua*ua)\n",
        "\n",
        "        # L2 norms\n",
        "        L2rho = np.sqrt( sumrhoe2  / sumrhoa2 )\n",
        "        L2ux  = np.sqrt( sumue2[0] / sumua2[0] )\n",
        "        L2uy  = np.sqrt( sumue2[1] / sumua2[1] )\n",
        "\n",
        "        print(t, E, L2rho, L2ux, L2uy)\n",
        "\n",
        "         # Plot solution every NVIS time steps\n",
        "    if vis and t % NVIS == 0:\n",
        "        umag = np.sqrt( np.einsum('axy->xy', u*u) ) / u_max\n",
        "        plt.imshow(umag, extent=[0,1,0,1], vmin=0, vmax=1)\n",
        "        bar = plt.colorbar()\n",
        "        plt.streamplot(x/NX, y/NY, u[0,:,:], u[1,:,:], color=[1,1,1])\n",
        "        plt.xlabel('$x/l_x$')\n",
        "        plt.ylabel('$y/l_y$')\n",
        "        bar.set_label('$|\\mathbf{u}|/u_\\mathrm{max}$')\n",
        "        td = 1/(nu*(2*np.pi/NX)**2 + (2*np.pi/NY)**2)\n",
        "        plt.title('flow field at $t/t_d = {0:.2f}$'.format(t/td))\n",
        "        plt.show()\n",
        "\n",
        "        # Calculate performance information after the simulation is finished\n",
        "runtime = time.time() - tstart\n",
        "nodes_updated = NSTEPS*NX*NY\n",
        "speed = nodes_updated/(1e6*runtime)\n",
        "\n",
        "print(' ----- performance information -----')\n",
        "print('        timesteps:', NSTEPS);\n",
        "print('          runtime:', runtime, '(s)')\n",
        "print('            speed:', speed, '(Mlups)')"
      ],
      "execution_count": 0,
      "outputs": []
    }
  ]
}